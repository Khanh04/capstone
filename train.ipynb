{
 "cells": [
  {
   "cell_type": "code",
   "execution_count": 1,
   "id": "976df9ab-6ee4-4e28-aee0-6e97299c39f3",
   "metadata": {},
   "outputs": [
    {
     "name": "stderr",
     "output_type": "stream",
     "text": [
      "/home/khanh/.local/share/virtualenvs/capstone-3qBDIcND/lib/python3.12/site-packages/tqdm/auto.py:21: TqdmWarning: IProgress not found. Please update jupyter and ipywidgets. See https://ipywidgets.readthedocs.io/en/stable/user_install.html\n",
      "  from .autonotebook import tqdm as notebook_tqdm\n"
     ]
    }
   ],
   "source": [
    "from datasets import load_dataset\n",
    "from transformers import AutoTokenizer, AutoModelForCausalLM, TrainingArguments, Trainer, DataCollatorForLanguageModeling\n",
    "import numpy as np\n",
    "import torch\n",
    "\n",
    "# 1. Load the SQuAD dataset\n",
    "dataset = load_dataset(\"squad\")\n",
    "\n",
    "# 2. Load the DistilGPT-2 tokenizer\n",
    "model_checkpoint = 'distilgpt2'\n",
    "tokenizer = AutoTokenizer.from_pretrained(model_checkpoint, use_fast=True)\n",
    "tokenizer.pad_token = tokenizer.eos_token"
   ]
  },
  {
   "cell_type": "code",
   "execution_count": 2,
   "id": "617e878a-0f17-42c4-8112-bef34a3ded35",
   "metadata": {},
   "outputs": [
    {
     "name": "stderr",
     "output_type": "stream",
     "text": [
      "Map: 100%|███████████████████████████████████████████████████████████████| 10570/10570 [00:01<00:00, 7429.96 examples/s]\n"
     ]
    }
   ],
   "source": [
    "# 3. Preprocess the dataset\n",
    "max_length = 512\n",
    "def preprocess_function(examples):\n",
    "    inputs = [f\"Context: {context}\\nQuestion: {question}\\nAnswer: {answer['text'][0]}\"\n",
    "              for context, question, answer in zip(examples[\"context\"], examples[\"question\"], examples[\"answers\"])]\n",
    "    return tokenizer(inputs, truncation=True, max_length=max_length, padding=True)\n",
    "\n",
    "tokenized_datasets = dataset.map(preprocess_function, batched=True, remove_columns=dataset[\"train\"].column_names)"
   ]
  },
  {
   "cell_type": "code",
   "execution_count": 3,
   "id": "2707858f-7521-4914-b1f7-60e22e7121dd",
   "metadata": {},
   "outputs": [
    {
     "name": "stderr",
     "output_type": "stream",
     "text": [
      "/home/khanh/.local/share/virtualenvs/capstone-3qBDIcND/lib/python3.12/site-packages/transformers/training_args.py:1545: FutureWarning: `evaluation_strategy` is deprecated and will be removed in version 4.46 of 🤗 Transformers. Use `eval_strategy` instead\n",
      "  warnings.warn(\n"
     ]
    }
   ],
   "source": [
    "# 4. Prepare the datasets for training\n",
    "train_dataset = tokenized_datasets[\"train\"].shuffle(seed=42).select(range(100))\n",
    "eval_dataset = tokenized_datasets[\"validation\"].shuffle(seed=42).select(range(100))\n",
    "\n",
    "# 5. Load the model\n",
    "model = AutoModelForCausalLM.from_pretrained(model_checkpoint)\n",
    "model.resize_token_embeddings(len(tokenizer))\n",
    "\n",
    "# 6. Set up the data collator\n",
    "data_collator = DataCollatorForLanguageModeling(tokenizer=tokenizer, mlm=False)\n",
    "\n",
    "# 7. Define training arguments\n",
    "training_args = TrainingArguments(\n",
    "    output_dir=\"./TEMP\",\n",
    "    learning_rate=2e-5,\n",
    "    weight_decay=0.01,\n",
    "    num_train_epochs=3,\n",
    "    load_best_model_at_end=True,\n",
    "    metric_for_best_model=\"eval_loss\",\n",
    "    fp16=True,  # Enable if GPU supports it\n",
    "    push_to_hub=False,\n",
    "    evaluation_strategy=\"steps\",\n",
    "    save_strategy=\"steps\",\n",
    "    eval_steps=500,\n",
    "    save_steps=500,\n",
    "    save_total_limit=3,\n",
    ")\n",
    "# 8. Define the trainer\n",
    "trainer = Trainer(\n",
    "    model=model,\n",
    "    args=training_args,\n",
    "    train_dataset=train_dataset,\n",
    "    eval_dataset=eval_dataset,\n",
    "    data_collator=data_collator,\n",
    ")"
   ]
  },
  {
   "cell_type": "code",
   "execution_count": 4,
   "id": "a1128b3a-c1ac-447a-ae6f-f712d935508a",
   "metadata": {},
   "outputs": [
    {
     "ename": "ModuleNotFoundError",
     "evalue": "No module named 'ipywidgets'",
     "output_type": "error",
     "traceback": [
      "\u001b[0;31m---------------------------------------------------------------------------\u001b[0m",
      "\u001b[0;31mModuleNotFoundError\u001b[0m                       Traceback (most recent call last)",
      "Cell \u001b[0;32mIn[4], line 1\u001b[0m\n\u001b[0;32m----> 1\u001b[0m \u001b[38;5;28;01mimport\u001b[39;00m \u001b[38;5;21;01mipywidgets\u001b[39;00m \u001b[38;5;28;01mas\u001b[39;00m \u001b[38;5;21;01mwidgets\u001b[39;00m\n\u001b[1;32m      2\u001b[0m \u001b[38;5;28;01mfrom\u001b[39;00m \u001b[38;5;21;01mIPython\u001b[39;00m\u001b[38;5;21;01m.\u001b[39;00m\u001b[38;5;21;01mdisplay\u001b[39;00m \u001b[38;5;28;01mimport\u001b[39;00m display, HTML\n\u001b[1;32m      4\u001b[0m \u001b[38;5;28;01mdef\u001b[39;00m \u001b[38;5;21mcreate_qa_widget\u001b[39m():\n",
      "\u001b[0;31mModuleNotFoundError\u001b[0m: No module named 'ipywidgets'"
     ]
    }
   ],
   "source": [
    "import ipywidgets as widgets\n",
    "from IPython.display import display, HTML\n",
    "\n",
    "def create_qa_widget():\n",
    "    context = widgets.Textarea(placeholder=\"Enter the context\", layout={'width': '100%', 'height': '100px'})\n",
    "    question = widgets.Text(placeholder=\"Enter your question\", layout={'width': '100%'})\n",
    "    submit = widgets.Button(description=\"Submit\", layout={'width': '100px'})\n",
    "    output = widgets.Textarea(disabled=True, layout={'width': '100%', 'height': '200px'})\n",
    "\n",
    "    # Define button click handler\n",
    "    def on_submit(b):\n",
    "        output.value = generate_answer(context.value, question.value)\n",
    "\n",
    "    submit.on_click(on_submit)\n",
    "\n",
    "    # Create and display the container\n",
    "    display(HTML(\"<style>.container { width:100% !important; }</style>\"))\n",
    "    display(widgets.VBox([\n",
    "        widgets.HTML(\"<h3>Context:</h3>\"), context,\n",
    "        widgets.HTML(\"<h3>Question:</h3>\"), question,\n",
    "        submit,\n",
    "        widgets.HTML(\"<h3>Answer:</h3>\"), output\n",
    "    ], layout={'width': '100%', 'max_width': '1000px'}))\n",
    "\n",
    "# Call this function to create and display the widget\n",
    "create_qa_widget()"
   ]
  },
  {
   "cell_type": "code",
   "execution_count": null,
   "id": "783f7e17-59b0-4b47-b1fe-6d56f9445307",
   "metadata": {},
   "outputs": [],
   "source": []
  }
 ],
 "metadata": {
  "kernelspec": {
   "display_name": "Python 3 (ipykernel)",
   "language": "python",
   "name": "python3"
  },
  "language_info": {
   "codemirror_mode": {
    "name": "ipython",
    "version": 3
   },
   "file_extension": ".py",
   "mimetype": "text/x-python",
   "name": "python",
   "nbconvert_exporter": "python",
   "pygments_lexer": "ipython3",
   "version": "3.12.3"
  }
 },
 "nbformat": 4,
 "nbformat_minor": 5
}
